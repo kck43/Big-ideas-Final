{
 "cells": [
  {
   "cell_type": "markdown",
   "metadata": {},
   "source": [
    "# Final Project - Choosing the Best Pittsburgh Neighborhood\n",
    "## Amanda Cotumaccio, Sreeha Reddy, Kendal Kalanish\n",
    "\n",
    "### Introduction\n",
    "\n",
    "We decided to declare the best Pittsburgh neighborhood as the one that can be most easily traversed without a car. We feel that this metric matters for the sake of the environment and for happier cities. The EPA estimates that vehicles cause almost 75% of the carbon monoxide pollution in the US. This pollution mostly takes place in suburban, completely car dependent areas, but cities like Pittsburgh are still prone to car pollution. Easier and more accessible travel by bikes and walking is important to combat climate change. We decided not to consider public transportation in this metric and instead consider a more narrow definition of car-free travel. Public transportation in Pittsburgh is greatly available in many neighborhoods but not at all in others, leading to a lack of a pattern. \n",
    "\n",
    "Car-free travel in Pittsburgh is measured with three factors:\n",
    "- Walkability is a term that is mainly used to describe the distance from where you live to other amenities, and whether it is within reasonable walking distance.\n",
    "\n",
    "- Bikeability, same as Walkability, is determined by the capability of an area to be traversed by bike \n",
    "\n",
    "- Sidewalk to Street Ratio\n",
    "Using information about different locations and blocks, we can study sidewalk ratings vs. street ratings. The quality of the sidewalks and the rating of the street condition for each block in the city can help us determine the best neighborhood in Pittsburgh. \n",
    "With these three factors, we were able to measure and find the best neighborhoods for our metrics.\n",
    "\n",
    "### Walkability- Sreeha\n",
    "\n",
    "*Introduction*\n",
    "First, I imported pandas and ran through the walkability dataset file I had. Then, I calculated the mean of all the walk scores in the data set, ending up in a score of 42.33\n",
    "*The Metric*"
   ]
  },
  {
   "cell_type": "code",
   "execution_count": null,
   "metadata": {},
   "outputs": [],
   "source": [
    "import pandas as pd\n",
    "walk = pd.read_csv(\"walkscorect.xls-walk-score-by-ct.csv\")\n",
    "walk[\"Walk Score\"].mean()"
   ]
  },
  {
   "cell_type": "code",
   "execution_count": null,
   "metadata": {},
   "outputs": [],
   "source": [
    "import pandas as pd\n",
    "walk = pd.read_csv(\"walkscorect.xls-walk-score-by-ct.csv\")\n",
    "walk.plot(kind = \"scatter\", x = \"Census Tract\", y = \"Walk Score\", title = \"Census Tract vs Walk Score\")"
   ]
  },
  {
   "cell_type": "code",
   "execution_count": null,
   "metadata": {},
   "outputs": [],
   "source": [
    "import pandas as pd\n",
    "walk = pd.read_csv(\"walkscorect.xls-walk-score-by-ct.csv\")\n",
    "walk.sample(20)"
   ]
  },
  {
   "attachments": {},
   "cell_type": "markdown",
   "metadata": {},
   "source": [
    "*Conclusion*\n",
    "Just read through the excel sheet and graphed all the data points. It looks strangely uniform, but has three very clear columns of separation. I also created a map of the walk score vs neighborhood, using an edited/merged version of my census tract data and the SNAP neighborhood data that had the same census tracts"
   ]
  },
  {
   "cell_type": "code",
   "execution_count": null,
   "metadata": {},
   "outputs": [],
   "source": [
    "import pandas as pd\n",
    "import numpy as np\n",
    "import geopandas as gpd\n",
    "%matplotlib inline\n",
    "import matplotlib.pyplot as plt\n",
    "\n",
    "data = pd.read_csv('Neighborhoods_with_SNAP_Data.csv')\n",
    "df = pd.DataFrame(data)\n",
    "\n",
    "neighborhoods = gpd.read_file(\"Neighborhood_SNAP.shp\") # read in the shapefile\n",
    "\n",
    "fig, ax=plt.subplots(figsize=(50,50),edgecolor=\"white\")\n",
    "neighborhoods.plot(ax=ax)\n",
    "ax.scatter(df.Neighborhood_2010_INTPTLON10, df.Neighborhood_2010_INTPTLAT10, c=df.Walk_Score, s=900, cmap=\"Oranges\")\n",
    "plt.show()"
   ]
  },
  {
   "attachments": {},
   "cell_type": "markdown",
   "metadata": {},
   "source": [
    "### Bikeability - Kendal\n",
    "I utilized matplotlib to create 2 maps from census information and POGOH data. The first shows the neighborhoods in Pittsburgh with POGOH stations"
   ]
  },
  {
   "cell_type": "code",
   "execution_count": null,
   "metadata": {},
   "outputs": [],
   "source": [
    "import pandas as pd\n",
    "import numpy as np\n",
    "import geopandas as gpd\n",
    "%matplotlib inline\n",
    "import matplotlib.pyplot as plt\n",
    "\n",
    "datas = pd.read_csv('pogoh-station-locations-february-2023.csv')\n",
    "df = pd.DataFrame(datas)\n",
    "\n",
    "neighborhoods = gpd.read_file(\"Neighborhood_SNAP.shp\") # read in the shapefile\n",
    "\n",
    "fig, ax=plt.subplots(figsize=(20,20))\n",
    "neighborhoods.plot(ax=ax, color=\"plum\")\n",
    "ax.scatter(df.Longitude, df.Latitude, s=df.Total_Docks, c = 'black')\n",
    "plt.show()"
   ]
  },
  {
   "attachments": {},
   "cell_type": "markdown",
   "metadata": {},
   "source": [
    "This map shows the neighborhoods around Bloomfield and Oakland as having the most POGOH bike stations. \n",
    "\n",
    "I then created a map that plotted the color as the % of commuters that bike to work against the size as the total population in the area"
   ]
  },
  {
   "cell_type": "code",
   "execution_count": null,
   "metadata": {},
   "outputs": [],
   "source": [
    "\n",
    "data = pd.read_csv('Neighborhoods_with_SNAP_Data.csv')\n",
    "df = pd.DataFrame(data)\n",
    "\n",
    "neighborhoods = gpd.read_file(\"Neighborhood_SNAP.shp\") # read in the shapefile\n",
    "\n",
    "fig, ax=plt.subplots(figsize=(50,50),edgecolor=\"white\",)\n",
    "neighborhoods.plot(ax=ax)\n",
    "ax.scatter(df.Neighborhood_2010_INTPTLON10, df.Neighborhood_2010_INTPTLAT10, c=df.SNAP_All_csv_Commute_to_Work__B, s=df.Pop__2010)\n",
    "plt.show()\n"
   ]
  },
  {
   "attachments": {},
   "cell_type": "markdown",
   "metadata": {},
   "source": [
    "This map has 2 bright spots for commuting to work by bike. They are the neighborhoods of Lower Lawrenceville and Bloomfield. I chose to make maps because I feel they are succinct and to the point when representing data like this. One can easily recognize overall patterns based on the area, with the most bike stations and most bike commuters lining up in the same area of the city.\n",
    "\n",
    "### Sidewalk score vs street score\n",
    "This data plots the length and quality of the sidewalk against that of the street. Where the walk score considers the ability to access amenities from any one spot, this data considers the safety and quality of the walk, another important metric to consider. "
   ]
  },
  {
   "cell_type": "code",
   "execution_count": null,
   "metadata": {},
   "outputs": [],
   "source": [
    "import pandas as pd\n",
    "import matplotlib.pyplot as plt\n",
    "\n",
    "# Read the CSV file into a pandas DataFrame\n",
    "df = pd.read_csv('https://data.wprdc.org/dataset/853a077d-0a31-4292-8a1d-5d60b530169b/resource/b90ccee1-c0aa-43b9-93e2-8a25e690c393/download/sidewalkstreetratioupload.csv')\n",
    "# Create a scatterplot\n",
    "df.plot(kind='scatter', x='SidewalkStepLFt', y='StreetLFt', alpha=0.5)\n",
    "\n",
    "# Set the title and axis labels\n",
    "plt.title('Sidewalk Score vs. Street Score')\n",
    "plt.xlabel('Sidewalk Score')\n",
    "plt.ylabel('Street Score')\n",
    "\n",
    "# Show the plot\n",
    "plt.show()\n",
    "\n",
    "#sidewalk condition to street condition"
   ]
  },
  {
   "attachments": {},
   "cell_type": "markdown",
   "metadata": {},
   "source": [
    "### Conclusion\n",
    "The few areas that kept popping up throughout each map that we decided fit our metrics the best. They were Bloomfield, which had a high walk score as well as many POGOH stations and Lower Lawrenceville which actually had the highest number of biking commuters. Both of these destinations scored high across the datasets. After looking at a seperate topographic map of Pittsburgh, we choose Bloomfield as the best neighborhood for its flatness, feeling that this would add to ease of carless travel. \n",
    "See our full presentation here\n",
    "https://docs.google.com/presentation/d/1QO1ELsxd61iKQIlwHeezNmlGaYDwBF0Nb-ZA1_sHeEo/edit#slide=id.g20a0b52ccc5_1_1"
   ]
  }
 ],
 "metadata": {
  "kernelspec": {
   "display_name": "Python 3",
   "language": "python",
   "name": "python3"
  },
  "language_info": {
   "codemirror_mode": {
    "name": "ipython",
    "version": 3
   },
   "file_extension": ".py",
   "mimetype": "text/x-python",
   "name": "python",
   "nbconvert_exporter": "python",
   "pygments_lexer": "ipython3",
   "version": "3.8.3"
  }
 },
 "nbformat": 4,
 "nbformat_minor": 4
}
